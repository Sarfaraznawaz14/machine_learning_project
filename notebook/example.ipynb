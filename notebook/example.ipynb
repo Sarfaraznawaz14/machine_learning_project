{
 "cells": [
  {
   "cell_type": "code",
   "execution_count": 1,
   "metadata": {},
   "outputs": [],
   "source": [
    "from collections import namedtuple\n"
   ]
  },
  {
   "cell_type": "code",
   "execution_count": 2,
   "metadata": {},
   "outputs": [],
   "source": [
    "\"\"\" 1. Download Url\n",
    "    2. download folder (compressed file)\n",
    "    3. extract folder (extracted file)\n",
    "    4. train dataset folder\n",
    "    5. test dataset folder\"\"\"\n",
    "\n",
    "\n",
    "DataIngestionConfig = namedtuple(\"DataIngestionConfig\",\n",
    "[\"dataset_download_url\",\"tgz_download_dir\",\"raw_data_dir\",\"ingested_train_dir\",\"ingested_test_dir\"])"
   ]
  },
  {
   "cell_type": "code",
   "execution_count": 4,
   "metadata": {},
   "outputs": [],
   "source": [
    "data_ingestion_config = DataIngestionConfig(dataset_download_url = \"dasfkhlajkdf\",\n",
    "tgz_download_dir = \"ajlkfhasdjfk\",\n",
    "raw_data_dir = \"falkfhdsf\",\n",
    "ingested_train_dir = \"asfasd,nfm\",\n",
    "ingested_test_dir = \"fljahdsafm\"\n",
    ")"
   ]
  },
  {
   "cell_type": "code",
   "execution_count": 5,
   "metadata": {},
   "outputs": [
    {
     "data": {
      "text/plain": [
       "DataIngestionConfig(dataset_download_url='dasfkhlajkdf', tgz_download_dir='ajlkfhasdjfk', raw_data_dir='falkfhdsf', ingested_train_dir='asfasd,nfm', ingested_test_dir='fljahdsafm')"
      ]
     },
     "execution_count": 5,
     "metadata": {},
     "output_type": "execute_result"
    }
   ],
   "source": [
    "data_ingestion_config"
   ]
  },
  {
   "cell_type": "code",
   "execution_count": null,
   "metadata": {},
   "outputs": [],
   "source": []
  }
 ],
 "metadata": {
  "kernelspec": {
   "display_name": "Python 3",
   "language": "python",
   "name": "python3"
  },
  "language_info": {
   "codemirror_mode": {
    "name": "ipython",
    "version": 3
   },
   "file_extension": ".py",
   "mimetype": "text/x-python",
   "name": "python",
   "nbconvert_exporter": "python",
   "pygments_lexer": "ipython3",
   "version": "3.7.16"
  },
  "orig_nbformat": 4,
  "vscode": {
   "interpreter": {
    "hash": "661e3cf12b8899eda390083b36969bce9f5e1512ef069bfb4e89e16443b426fc"
   }
  }
 },
 "nbformat": 4,
 "nbformat_minor": 2
}
